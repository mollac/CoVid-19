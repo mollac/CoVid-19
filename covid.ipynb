{
 "cells": [
  {
   "cell_type": "code",
   "execution_count": null,
   "metadata": {},
   "outputs": [],
   "source": [
    "# -*- coding: utf-8 -*-\n",
    "import pandas as pd\n",
    "import numpy as np\n",
    "from matplotlib import pyplot as plt\n",
    "import datetime as datetime\n",
    "from bs4 import BeautifulSoup as bs\n",
    "import requests\n",
    "from pandas.plotting import register_matplotlib_converters\n",
    "register_matplotlib_converters()\n",
    "\n",
    "DATA_URL = \"https://raw.githubusercontent.com/CSSEGISandData/COVID-19/master/csse_covid_19_data/csse_covid_19_daily_reports/\"\n",
    "the_country = 'Hungary'"
   ]
  },
  {
   "cell_type": "code",
   "execution_count": null,
   "metadata": {},
   "outputs": [],
   "source": [
    "def load_data(the_file, the_country):\n",
    "    data = pd.read_csv(the_file)\n",
    "    data.rename(columns={'Country/Region':'Country', 'Country_Region':'Country'}, inplace=True)\n",
    "    data = data[data['Country'] == the_country].fillna(0)\n",
    "    data = data.groupby(['Country']).sum()\n",
    "    data = data[['Confirmed', 'Recovered', 'Deaths']]\n",
    "    return (data.iloc[0,0], data.iloc[0,1], data.iloc[0,2]) if not data.empty else (0,0,0)"
   ]
  },
  {
   "cell_type": "code",
   "execution_count": null,
   "metadata": {
    "scrolled": false
   },
   "outputs": [],
   "source": [
    "START_DATE = datetime.date(2020,1,22)\n",
    "TODAY_DATE = str(datetime.datetime.today())[:10]\n",
    "\n",
    "the_data = dict()\n",
    "while str(START_DATE) < TODAY_DATE:\n",
    "    the_date = START_DATE.strftime('%m-%d-%Y')\n",
    "    file_name = f'{the_date}.csv'\n",
    "    data = load_data(DATA_URL + file_name, the_country)\n",
    "    if sum(data) > 0:\n",
    "        the_data[str(START_DATE)] = data \n",
    "    START_DATE += datetime.timedelta(days=1)\n",
    "the_data"
   ]
  },
  {
   "cell_type": "code",
   "execution_count": null,
   "metadata": {},
   "outputs": [],
   "source": [
    "df = pd.DataFrame(the_data).T\n",
    "df.columns=['Eset', 'Gyógyult', 'Halott']"
   ]
  },
  {
   "cell_type": "code",
   "execution_count": null,
   "metadata": {},
   "outputs": [],
   "source": [
    "if the_country == 'Hungary':\n",
    "        url='https://koronavirus.gov.hu/'\n",
    "        page = requests.get(url)\n",
    "\n",
    "        soup = bs(page.content, 'html.parser')\n",
    "        c = soup.find_all(class_ = 'number')\n",
    "        eset = int(c[0].text)\n",
    "        gyogyult = int(c[1].text)\n",
    "        halott = int(c[2].text)\n",
    "\n",
    "        dfT = df.T\n",
    "        dfT[TODAY_DATE] = [eset, gyogyult, halott]\n",
    "        df = dfT.T\n",
    "df        "
   ]
  },
  {
   "cell_type": "code",
   "execution_count": null,
   "metadata": {},
   "outputs": [],
   "source": [
    "df['Aktív'] = df['Eset']-(df['Gyógyult']+df['Halott'])\n",
    "df['Eset+'] = df['Eset'].shift(1)\n",
    "df.fillna(0, inplace=True)\n",
    "df['EsetD'] = abs(df['Eset'] - df['Eset+'])\n",
    "df"
   ]
  },
  {
   "cell_type": "code",
   "execution_count": null,
   "metadata": {},
   "outputs": [],
   "source": [
    "plt.figure(figsize=(20,10), tight_layout=False)\n",
    "ax = plt.subplot(211, frameon=False)\n",
    "\n",
    "plt.plot(df.index, df['Eset'], 'b-',     label=f\"{df['Eset'].max():8} összesen\")\n",
    "plt.plot(df.index, df['Gyógyult'], 'g--', label=f\"{df['Gyógyult'].max():8} gyógyult\")\n",
    "plt.plot(df.index, df['Halott'], 'r-',    label=f\"{df['Halott'].max():8} halott\")\n",
    "plt.plot(df.index, df['Aktív'], 'b--',    label=f\"{df['Aktív'].max():8} aktív\")\n",
    "\n",
    "for i,j in df.Eset.items():\n",
    "    ax.annotate(str(j), xy=(i, j + 2))\n",
    "\n",
    "plt.ylabel('Esetszám')\n",
    "plt.title(f'CoVid-19: {the_country} {datetime.datetime.today()}')\n",
    "plt.legend(shadow=True, fontsize='small')\n",
    "plt.xticks(rotation='vertical')\n",
    "\n",
    "bx = plt.subplot(212, frameon=True)\n",
    "plt.bar(df.index, df['EsetD'], label='Napi növekmény', color='gray')\n",
    "plt.ylabel('Napi új eset')\n",
    "plt.xticks(rotation='vertical')\n",
    "plt.legend(shadow=True, fontsize='small')\n",
    "\n",
    "for i,j in df.EsetD.items():\n",
    "     bx.annotate(j, xy=(i, j + .3))\n",
    "\n",
    "plt.savefig(f'{the_country.lower()}.png')\n",
    "# plt.show()\n"
   ]
  }
 ],
 "metadata": {
  "kernelspec": {
   "display_name": "Python 3",
   "language": "python",
   "name": "python3"
  },
  "language_info": {
   "codemirror_mode": {
    "name": "ipython",
    "version": 3
   },
   "file_extension": ".py",
   "mimetype": "text/x-python",
   "name": "python",
   "nbconvert_exporter": "python",
   "pygments_lexer": "ipython3",
   "version": "3.6.4"
  }
 },
 "nbformat": 4,
 "nbformat_minor": 4
}
